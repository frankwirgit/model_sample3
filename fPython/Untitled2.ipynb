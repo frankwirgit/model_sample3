{
 "cells": [
  {
   "cell_type": "code",
   "execution_count": 80,
   "metadata": {
    "collapsed": true
   },
   "outputs": [],
   "source": [
    "###############################################################################\n",
    "# Load all global data and parameters\n",
    "###############################################################################\n",
    "import pandas as pd\n",
    "import numpy as np\n",
    "import sys\n",
    "import csv\n",
    "import math\n",
    "from scipy.stats import norm\n",
    "import random\n",
    "\n",
    "cohort_summary = pd.read_csv(\"LOS_cohort_summary_sunhwan.csv\")\n",
    "\n",
    "# replace NA to 0 for age and bmi columns\n",
    "required_features = ['gender', 'age_60', 'age_60_70', 'age_70_80', 'age_80', \n",
    "                     'bmi_30', 'bmi_30_35', 'bmi_35_40', 'bmi_40']\n",
    "\n",
    "cohort_summary = cohort_summary.fillna(value=0)\n",
    "\n",
    "cohort_summary.head()\n",
    "\n",
    "features = [\"antibiotics\", \"ever_smoker\", \"pre_comor_Group3_Endocrine\",\"pre_comor_Anemia\", \n",
    "\t\t\"pre_comor_Group5_MentalDisorder\", \"pre_comor_Group6_Nervous\", \"pre_comor_Hypertension\",\n",
    "\t\t\"pre_comor_Group8_Respiratory\", \"pre_comor_Rheumatism\"]\n",
    "\n",
    "features_inorder = [\"antibiotics\", \"pre_comor_Anemia\", \"pre_comor_Group6_Nervous\", \n",
    "\t\t \"pre_comor_Group5_MentalDisorder\", \"pre_comor_Rheumatism\", \"pre_comor_Group3_Endocrine\", \n",
    "\t\t \"pre_comor_Group8_Respiratory\", \"ever_smoker\", \"pre_comor_Hypertension\"]\n",
    "\n",
    "feature_set = required_features + features\n",
    "\n",
    "num_features = len(features)\n",
    "\n",
    "# centroid of 8 clusters\n",
    "cluster_centroid = pd.read_csv(\"new_preop_kmeans_13_centers_8_binary_48K.csv\")\n",
    "cluster_features = list(cluster_centroid.columns)\n",
    "  \n",
    "# cluster size\n",
    "cluster_size = pd.read_csv(\"new_preop_kmeans_13_size_8_binary_48K.csv\")\n",
    "\n",
    "# Average of features from the entirepopulation\n",
    "pop_avg = ((cohort_summary[features].mul(cohort_summary['num_patient'], axis=0)).sum(axis=0))/sum(cohort_summary['num_patient'])\n",
    "\n",
    "# alpha level for 99% confidence interval\n",
    "alpha = 0.01\n",
    "z = norm.ppf(1-0.5*alpha)\n",
    "\n",
    "# z value for confidence interval\n",
    "cr = norm.ppf(0.975)\n",
    "\n",
    "#import the coefficients and covariance matrix\n",
    "coe_los = pd.read_csv(\"formula_glm_LOS.csv\")\n",
    "coe_los = coe_los.coefficients.as_matrix()\n",
    "\n",
    "coe_rev = pd.read_csv(\"formula_glm_revision.csv\")\n",
    "coe_rev = coe_rev.coefficients.as_matrix()\n",
    "\n",
    "coe_com = pd.read_csv(\"formula_glm_complication.csv\")\n",
    "coe_com = coe_com.coefficients.as_matrix()\n",
    "\n",
    "coe_porec = pd.read_csv(\"formula_glm_post_recovery.csv\")\n",
    "coe_porec = coe_porec.coefficients.as_matrix()\n",
    "\n",
    "cov_los = pd.read_csv(\"covariance_glm_LOS.csv\")\n",
    "del cov_los['predictor']\n",
    "cov_los = np.mat(cov_los)\n",
    "\n",
    "cov_rev = pd.read_csv(\"covariance_glm_revision.csv\")\n",
    "del cov_rev['predictor']\n",
    "cov_rev = np.mat(cov_rev)\n",
    "\n",
    "cov_com = pd.read_csv(\"covariance_glm_complication.csv\")\n",
    "del cov_com['predictor']\n",
    "cov_com = np.mat(cov_com)\n",
    "\n",
    "cov_porec = pd.read_csv(\"covariance_glm_post_recovery.csv\")\n",
    "del cov_porec['predictor']\n",
    "cov_porec = np.mat(cov_porec)\n",
    "\n",
    "###############################################################################\n",
    "# User defined function for inference of missing information\n",
    "###############################################################################\n",
    "def findCondPop(patient):\n",
    "  # Find the conditional population based on known features ofthe patient\n",
    "  # Args:\n",
    "  #   patient: Patient data. NA is for unknown feature value.\n",
    "  # Returns:\n",
    "  #   Row index of summary table corresponding to conditional population\n",
    "  idx = range(cohort_summary.shape[0])\n",
    "  \n",
    "  for i in range(len(feature_set)):\n",
    "    f = feature_set[i]\n",
    "    if patient[i] is not None:\n",
    "      idx_f = cohort_summary[cohort_summary[f]==patient[i]].index.tolist()\n",
    "      idx = [j for j in idx if j in idx_f]\n",
    "  \n",
    "  return idx\n",
    "\n",
    "def initEstimate(pop_idx, patient):\n",
    "  # Initialize the estimate from the conditional population mean\n",
    "  # Args:\n",
    "  #   pop_idx: Row index of cohort_summary table\n",
    "  #   patient: Patient data. NA is for unknown feature value.\n",
    "  # Returns:\n",
    "  #   Range and estimates of features for clustering.\n",
    "  \n",
    "  if len(pop_idx) != 0:\n",
    "    sub_cohort = cohort_summary.iloc[pop_idx]\n",
    "    num_pop = sum(sub_cohort['num_patient'])\n",
    "    cond_est = ((sub_cohort[features].mul(sub_cohort['num_patient'], axis=0)).sum(axis=0))/float(num_pop)\n",
    "  \n",
    "    bound = [z*math.sqrt(x) for x in cond_est*(1-cond_est)/num_pop]\n",
    "  else:\n",
    "    cond_est = pop_avg\n",
    "    bound = [z*math.sqrt(x) for x in cond_est*(1-cond_est)/sum(cohort_summary['num_patient'])]\n",
    "    \n",
    "  bmi_idx = [i for i,v in enumerate(feature_set) if 'bmi' in v]\n",
    "  f_hat = [v for i,v in enumerate(patient) if i in bmi_idx] + list(cond_est)\n",
    "  f_range = [0.0]*4 + bound\n",
    "    \n",
    "  return f_hat, f_range\n",
    "\n",
    "#cluster = cluster_centroid\n",
    "def findSupportClusters(cluster, f_hat, f_range):\n",
    "  # Compute the support clusters\n",
    "  # Args:\n",
    "  #   c: data frame for the centroid of clusters. Each row of the data frame\n",
    "  #      contains the coordinate of the centorid of each cluster. The number\n",
    "  #      of the row is the number of clusters and the number of columns is the\n",
    "  #      number of dimensions\n",
    "  #   patient_data: Feature vector of patient information used in clustering.\n",
    "  #   range: 99% confidence interval of estimation of feature vector of the \n",
    "  #          patient. If 0, then corresponding feature is known.\n",
    "  # Returns:\n",
    "  #   Index of support clusters.\n",
    "\n",
    "  # Divide known and unknown dimensions or attributes\n",
    "  idx_known = [i for i,v in enumerate(f_range) if v == 0]\n",
    "  idx_unknown = [i for i,v in enumerate(f_range) if v != 0]\n",
    "  known = [v for i,v in enumerate(f_hat) if i in idx_known]\n",
    "  unknown = [v for i,v in enumerate(f_hat) if i in idx_unknown]\n",
    "  unknown_bound = [v for i,v in enumerate(f_range) if i in idx_unknown]\n",
    "  \n",
    "  #compute the distance with known features\n",
    "  known_dim = cluster[[cluster_features[i] for i in idx_known]]\n",
    "  cluster['known_dist'] = ((known_dim - known)**2).sum(axis=1)\n",
    "  \n",
    "  support_cluster = set()\n",
    "  \n",
    "  for i in range(len(idx_unknown)):\n",
    "    min_f_hat = unknown[i] - unknown_bound[i]\n",
    "    sc_min = ((cluster[cluster_features[idx_unknown[i]]] - min_f_hat)**2 + cluster['known_dist']).idxmin()\n",
    "    support_cluster.add(sc_min)\n",
    "    max_f_hat = unknown[i] + unknown_bound[i]\n",
    "    sc_max = ((cluster[cluster_features[idx_unknown[i]]] - max_f_hat)**2 + cluster['known_dist']).idxmin()\n",
    "    support_cluster.add(sc_max)\n",
    "\n",
    "  return list(support_cluster)\n",
    "\n",
    "# cluster = cluster_centroid\n",
    "def findSupportBox(cluster, support_cluster, f_hat, f_range):\n",
    "  # Compute the support box\n",
    "  # Args:\n",
    "  #   cluster: data frame for the centroid of clusters. Each row of the data frame\n",
    "  #            contains the coordinate of the centorid of each cluster. The number\n",
    "  #            of the row is the number of clusters and the number of columns is the\n",
    "  #             number of dimensions\n",
    "  #   support_cluster: Index of support clusters\n",
    "  #   f_hat: Feature vector of patient information used in clustering.\n",
    "  #   f_range: 99% confidence interval of estimation of feature vector of the \n",
    "  #            patient. If 0, then corresponding feature is known.\n",
    "  # Returns:\n",
    "  #   Coordinate of support boxes for features used for clustering.\n",
    "\n",
    "  # select support clusters\n",
    "  sc = cluster.iloc[support_cluster]\n",
    "  max_est = [a+b for a,b in zip(f_hat, f_range)]\n",
    "  min_est = [a-b for a,b in zip(f_hat, f_range)]\n",
    "  \n",
    "  box_min = []\n",
    "  box_max = []\n",
    "\n",
    "  for f in cluster_features:  \n",
    "    box_min.append(min(min(list(sc[f])), min_est[cluster_features.index(f)]))\n",
    "    box_max.append(max(max(list(sc[f])), max_est[cluster_features.index(f)]))\n",
    "  \n",
    "  return box_min, box_max\n",
    "\n",
    "def findGroupCluster(cluster, box_min, box_max):\n",
    "  # Find clusters inside the support box\n",
    "  # Args:\n",
    "  #   cluster: data frame for the centroid of clusters. Each row of the data frame\n",
    "  #            contains the coordinate of the centorid of each cluster. The number\n",
    "  #            of the row is the number of clusters and the number of columns is the\n",
    "  #            number of dimensions\n",
    "  #   box: Coordinate of support box. box$box_min has the minimum coordinate and \n",
    "  #        box$box_max has the maximum coordinate.\n",
    "  # Returns:\n",
    "  #   Index of clusters inside the support box.  \n",
    "\n",
    "  group_cluster = []\n",
    "  for c in range(cluster.shape[0]):\n",
    "    if ((cluster.iloc[c][cluster_features] >= box_min).product() and \n",
    "        (cluster.iloc[c][cluster_features] <= box_max).product()):\n",
    "      group_cluster.append(c)\n",
    "  \n",
    "  return group_cluster\n",
    "\n",
    "def updateEstimates(cluster, cluster_size, group_cluster, f_hat, f_range):\n",
    "  # Update the estimates of features for clustering from group clusters.\n",
    "  # Args:\n",
    "  #   cluster: data frame for the centroid of clusters. Each row of the data frame\n",
    "  #            contains the coordinate of the centorid of each cluster. The number\n",
    "  #            of the row is the number of clusters and the number of columns is the\n",
    "  #             number of dimensions\n",
    "  #   cluster_size: number of population in cluster.\n",
    "  #   group_cluster: Index of group clusters.\n",
    "  #   f_hat: Feature vector of patient information used in clustering.\n",
    "  #   f_range: 99% confidence interval of estimation of feature vector of the \n",
    "  #            patient. If 0, then corresponding feature is known.\n",
    "  # Returns:\n",
    "  #   Range and estimates of features (probability and binary value) for clustering.\n",
    "\n",
    "  import math\n",
    "  \n",
    "  num = sum(cluster_size.iloc[group_cluster].values)[0]\n",
    "  pos_num = pd.DataFrame(cluster.iloc[group_cluster][cluster_features].values*cluster_size.iloc[group_cluster].values, columns=cluster_features).sum(axis=0)\n",
    "\n",
    "  f_hat_new = pos_num / num  \n",
    "  f_range_new = [z*math.sqrt(x) for x in f_hat_new*(1-f_hat_new)/num]\n",
    "  f_hat_bin_new = f_hat[:]\n",
    "  \n",
    "  for i in range(len(f_range)):\n",
    "    if f_range[i] == 0:\n",
    "      f_range_new[i] = f_range[i]\n",
    "      f_hat_new[cluster_features[i]] = f_hat[i]\n",
    "    else:\n",
    "      f_hat_bin_new[i] = int(f_hat_new[cluster_features[i]] >= pop_avg[cluster_features[i]])\n",
    "  \n",
    "  return f_hat_new, f_range_new, f_hat_bin_new\n",
    "\n",
    "\n",
    "\n",
    "def logitT(x):\n",
    "  #function to perform the log transform\n",
    "  #x is the input value before applying the link function which is the log transform\n",
    "  #return the output value after applying the link function\n",
    "  return ( math.exp(x)/(1+math.exp(x)) )\n",
    "\n",
    "\n",
    "def covf(x, cov):\n",
    "  #function to calculate the standard error\n",
    "  #x is the input vector, cov is the covariance matrix, x.T is to conduct the transpose for x\n",
    "  #return the output value as standard error\n",
    "  return (math.sqrt(x*cov*x.T))\n",
    "\n",
    "\n",
    "def computePredCI2(patient_input, imputed, coe, cov):\n",
    "  #function to compute the confidence interval\n",
    "  #patient_input is users answers or designed test data\n",
    "  #imputed is the imputed list after the process of imputing missings\n",
    "  #return a dataframe having measures to present to users\n",
    "\n",
    "  #assemble the users input\n",
    "  udemo = patient_input[[\"age\", \"bmi_pre\", \"gender\"]]\n",
    "  udemo.loc[:,'gender'] = udemo.loc[:,'gender']-1\n",
    "  to_compute = imputed[features]\n",
    "\n",
    "  #append the intercept to model input\n",
    "  inpt = pd.DataFrame({'intercept': [1]})\n",
    "  to_compute = pd.concat([inpt, udemo, to_compute], axis=1)\n",
    "  to_compute = to_compute.as_matrix()\n",
    "  \n",
    "  #compute the model formula\n",
    "  s = np.dot(coe, to_compute.transpose())\n",
    "\n",
    "  #compute the standard error\n",
    "  to_compute = np.mat(to_compute)\n",
    "  se = [covf(to_compute, cov) for x in to_compute]\n",
    "\n",
    "  #apply logit transform for prediction, lower and upper bounds\n",
    "  ls = logitT(s[0])\n",
    "  lsupr = logitT(s[0]+cr*se[0])\n",
    "  lslwr = logitT(s[0]-cr*se[0])\n",
    "\n",
    "  #compute the range and its percentage\n",
    "  rgp = None\n",
    "  if(ls!=0):\n",
    "    rgp = (lsupr-lslwr)/ls*100\n",
    "\n",
    "  #assemble the results to a data frame\n",
    "  td = pd.DataFrame({'pid':[patient_input.iloc[0]['pid']], 'pred_val':[ls], 'pred_upr':[lsupr],\n",
    "                  'pred_lwr':[lslwr], 'pred_range':[lsupr-lslwr], 'range_pct': rgp})\n",
    "\n",
    "  return (td)\n",
    "\n"
   ]
  },
  {
   "cell_type": "code",
   "execution_count": 30,
   "metadata": {
    "collapsed": true
   },
   "outputs": [],
   "source": [
    "#import the patient input structure\n",
    "patient_input = pd.read_csv(\"patient_model.csv\")\n",
    "#assign outcome features to NaN\n",
    "patient_input[['Length_of_Stay','LOS','revision','complication','post_recovery']]=np.nan\n",
    "#randomly assign the pid\n",
    "patient_input.pid = random.randint(1, 2000) \n",
    "demo_input = pd.read_csv(\"all_case_demographic.csv\")\n",
    "feature_input = pd.read_csv(\"all_case_preop_feature.csv\")\n",
    "del feature_input['active_feature'] \n",
    "#pick up cases\n",
    "k=1\n",
    "pat0=patient_input\n",
    "#assemble the test data\n",
    "pat0[list(demo_input.columns.values)]=demo_input.iloc[k].tolist()\n",
    "\n",
    "#for kj in range(len(feature_input.index)):\n",
    "kj=1\n",
    "pat0[list(feature_input.columns.values)]=feature_input.iloc[kj].tolist()\n",
    "\n",
    "\n",
    "#initial the question pool\n",
    "feature_toask = features_inorder"
   ]
  },
  {
   "cell_type": "code",
   "execution_count": 31,
   "metadata": {
    "collapsed": false
   },
   "outputs": [
    {
     "data": {
      "text/html": [
       "<div>\n",
       "<table border=\"1\" class=\"dataframe\">\n",
       "  <thead>\n",
       "    <tr style=\"text-align: right;\">\n",
       "      <th></th>\n",
       "      <th>pid</th>\n",
       "      <th>Length_of_Stay</th>\n",
       "      <th>revision</th>\n",
       "      <th>complication</th>\n",
       "      <th>post_recovery</th>\n",
       "      <th>gender</th>\n",
       "      <th>age</th>\n",
       "      <th>age_60</th>\n",
       "      <th>age_60_70</th>\n",
       "      <th>age_70_80</th>\n",
       "      <th>...</th>\n",
       "      <th>antibiotics</th>\n",
       "      <th>ever_smoker</th>\n",
       "      <th>pre_comor_Group3_Endocrine</th>\n",
       "      <th>pre_comor_Anemia</th>\n",
       "      <th>pre_comor_Group5_MentalDisorder</th>\n",
       "      <th>pre_comor_Group6_Nervous</th>\n",
       "      <th>pre_comor_Hypertension</th>\n",
       "      <th>pre_comor_Group8_Respiratory</th>\n",
       "      <th>pre_comor_Rheumatism</th>\n",
       "      <th>LOS</th>\n",
       "    </tr>\n",
       "  </thead>\n",
       "  <tbody>\n",
       "    <tr>\n",
       "      <th>0</th>\n",
       "      <td>715</td>\n",
       "      <td>NaN</td>\n",
       "      <td>NaN</td>\n",
       "      <td>NaN</td>\n",
       "      <td>NaN</td>\n",
       "      <td>2</td>\n",
       "      <td>52</td>\n",
       "      <td>1</td>\n",
       "      <td>0</td>\n",
       "      <td>0</td>\n",
       "      <td>...</td>\n",
       "      <td>1</td>\n",
       "      <td>0</td>\n",
       "      <td>0</td>\n",
       "      <td>0</td>\n",
       "      <td>0</td>\n",
       "      <td>0</td>\n",
       "      <td>0</td>\n",
       "      <td>0</td>\n",
       "      <td>0</td>\n",
       "      <td>NaN</td>\n",
       "    </tr>\n",
       "  </tbody>\n",
       "</table>\n",
       "<p>1 rows × 26 columns</p>\n",
       "</div>"
      ],
      "text/plain": [
       "   pid  Length_of_Stay  revision  complication  post_recovery  gender  age  \\\n",
       "0  715             NaN       NaN           NaN            NaN       2   52   \n",
       "\n",
       "   age_60  age_60_70  age_70_80 ...   antibiotics  ever_smoker  \\\n",
       "0       1          0          0 ...             1            0   \n",
       "\n",
       "   pre_comor_Group3_Endocrine  pre_comor_Anemia  \\\n",
       "0                           0                 0   \n",
       "\n",
       "   pre_comor_Group5_MentalDisorder  pre_comor_Group6_Nervous  \\\n",
       "0                                0                         0   \n",
       "\n",
       "   pre_comor_Hypertension  pre_comor_Group8_Respiratory  pre_comor_Rheumatism  \\\n",
       "0                       0                             0                     0   \n",
       "\n",
       "   LOS  \n",
       "0  NaN  \n",
       "\n",
       "[1 rows x 26 columns]"
      ]
     },
     "execution_count": 31,
     "metadata": {},
     "output_type": "execute_result"
    }
   ],
   "source": [
    "pat0"
   ]
  },
  {
   "cell_type": "code",
   "execution_count": 32,
   "metadata": {
    "collapsed": true
   },
   "outputs": [],
   "source": [
    "pat = pat0.copy()\n",
    "for name in feature_toask:\n",
    "      pat[name]=None"
   ]
  },
  {
   "cell_type": "code",
   "execution_count": 34,
   "metadata": {
    "collapsed": false
   },
   "outputs": [
    {
     "data": {
      "text/html": [
       "<div>\n",
       "<table border=\"1\" class=\"dataframe\">\n",
       "  <thead>\n",
       "    <tr style=\"text-align: right;\">\n",
       "      <th></th>\n",
       "      <th>pid</th>\n",
       "      <th>Length_of_Stay</th>\n",
       "      <th>revision</th>\n",
       "      <th>complication</th>\n",
       "      <th>post_recovery</th>\n",
       "      <th>gender</th>\n",
       "      <th>age</th>\n",
       "      <th>age_60</th>\n",
       "      <th>age_60_70</th>\n",
       "      <th>age_70_80</th>\n",
       "      <th>...</th>\n",
       "      <th>antibiotics</th>\n",
       "      <th>ever_smoker</th>\n",
       "      <th>pre_comor_Group3_Endocrine</th>\n",
       "      <th>pre_comor_Anemia</th>\n",
       "      <th>pre_comor_Group5_MentalDisorder</th>\n",
       "      <th>pre_comor_Group6_Nervous</th>\n",
       "      <th>pre_comor_Hypertension</th>\n",
       "      <th>pre_comor_Group8_Respiratory</th>\n",
       "      <th>pre_comor_Rheumatism</th>\n",
       "      <th>LOS</th>\n",
       "    </tr>\n",
       "  </thead>\n",
       "  <tbody>\n",
       "    <tr>\n",
       "      <th>0</th>\n",
       "      <td>715</td>\n",
       "      <td>NaN</td>\n",
       "      <td>NaN</td>\n",
       "      <td>NaN</td>\n",
       "      <td>NaN</td>\n",
       "      <td>2</td>\n",
       "      <td>52</td>\n",
       "      <td>1</td>\n",
       "      <td>0</td>\n",
       "      <td>0</td>\n",
       "      <td>...</td>\n",
       "      <td>1</td>\n",
       "      <td>NaN</td>\n",
       "      <td>NaN</td>\n",
       "      <td>NaN</td>\n",
       "      <td>NaN</td>\n",
       "      <td>NaN</td>\n",
       "      <td>NaN</td>\n",
       "      <td>NaN</td>\n",
       "      <td>NaN</td>\n",
       "      <td>NaN</td>\n",
       "    </tr>\n",
       "  </tbody>\n",
       "</table>\n",
       "<p>1 rows × 26 columns</p>\n",
       "</div>"
      ],
      "text/plain": [
       "   pid  Length_of_Stay  revision  complication  post_recovery  gender  age  \\\n",
       "0  715             NaN       NaN           NaN            NaN       2   52   \n",
       "\n",
       "   age_60  age_60_70  age_70_80 ...  antibiotics  ever_smoker  \\\n",
       "0       1          0          0 ...            1          NaN   \n",
       "\n",
       "   pre_comor_Group3_Endocrine  pre_comor_Anemia  \\\n",
       "0                         NaN               NaN   \n",
       "\n",
       "   pre_comor_Group5_MentalDisorder  pre_comor_Group6_Nervous  \\\n",
       "0                              NaN                       NaN   \n",
       "\n",
       "   pre_comor_Hypertension pre_comor_Group8_Respiratory pre_comor_Rheumatism  \\\n",
       "0                     NaN                          NaN                  NaN   \n",
       "\n",
       "  LOS  \n",
       "0 NaN  \n",
       "\n",
       "[1 rows x 26 columns]"
      ]
     },
     "execution_count": 34,
     "metadata": {},
     "output_type": "execute_result"
    }
   ],
   "source": [
    "pat"
   ]
  },
  {
   "cell_type": "code",
   "execution_count": 3,
   "metadata": {
    "collapsed": true
   },
   "outputs": [],
   "source": [
    "i=0\n",
    "#assign the value to impute\n",
    "patient=pat[feature_set].iloc[0].tolist()\n",
    "\n",
    "#start to impute\n",
    "cond_pop = findCondPop(patient)\n",
    "f_hat, f_range = initEstimate(cond_pop, patient)\n",
    "support_cluster = findSupportClusters(cluster_centroid, f_hat, f_range)\n",
    "box_min, box_max = findSupportBox(cluster_centroid, support_cluster, f_hat, f_range)\n",
    "group_cluster = findGroupCluster(cluster_centroid, box_min, box_max)"
   ]
  },
  {
   "cell_type": "code",
   "execution_count": null,
   "metadata": {
    "collapsed": true
   },
   "outputs": [],
   "source": []
  },
  {
   "cell_type": "code",
   "execution_count": 4,
   "metadata": {
    "collapsed": true
   },
   "outputs": [],
   "source": [
    "if len(group_cluster) == 0:\n",
    "    feature_est = f_hat\n",
    "    feature_range = f_range\n",
    "    feature_est_bin = f_hat\n",
    "\n",
    "for i in range(len(f_range)):\n",
    "    if f_range[i] != 0:\n",
    "        feature_est_bin[i] = int(f_hat[i] >= pop_avg[cluster_features[i]])\n",
    "    else:\n",
    "        feature_est, feature_range, feature_est_bin = updateEstimates(cluster_centroid, cluster_size, group_cluster, f_hat, f_range)"
   ]
  },
  {
   "cell_type": "code",
   "execution_count": 6,
   "metadata": {
    "collapsed": false
   },
   "outputs": [
    {
     "data": {
      "text/html": [
       "<div>\n",
       "<table border=\"1\" class=\"dataframe\">\n",
       "  <thead>\n",
       "    <tr style=\"text-align: right;\">\n",
       "      <th></th>\n",
       "      <th>antibiotics</th>\n",
       "      <th>ever_smoker</th>\n",
       "      <th>pre_comor_Group3_Endocrine</th>\n",
       "      <th>pre_comor_Anemia</th>\n",
       "      <th>pre_comor_Group5_MentalDisorder</th>\n",
       "      <th>pre_comor_Group6_Nervous</th>\n",
       "      <th>pre_comor_Hypertension</th>\n",
       "      <th>pre_comor_Group8_Respiratory</th>\n",
       "      <th>pre_comor_Rheumatism</th>\n",
       "    </tr>\n",
       "  </thead>\n",
       "  <tbody>\n",
       "    <tr>\n",
       "      <th>0</th>\n",
       "      <td>0.78733</td>\n",
       "      <td>0.102247</td>\n",
       "      <td>0.367389</td>\n",
       "      <td>0.061364</td>\n",
       "      <td>0.04636</td>\n",
       "      <td>0.076129</td>\n",
       "      <td>0.057315</td>\n",
       "      <td>0.106771</td>\n",
       "      <td>0.073113</td>\n",
       "    </tr>\n",
       "  </tbody>\n",
       "</table>\n",
       "</div>"
      ],
      "text/plain": [
       "   antibiotics  ever_smoker  pre_comor_Group3_Endocrine  pre_comor_Anemia  \\\n",
       "0      0.78733     0.102247                    0.367389          0.061364   \n",
       "\n",
       "   pre_comor_Group5_MentalDisorder  pre_comor_Group6_Nervous  \\\n",
       "0                          0.04636                  0.076129   \n",
       "\n",
       "   pre_comor_Hypertension  pre_comor_Group8_Respiratory  pre_comor_Rheumatism  \n",
       "0                0.057315                      0.106771              0.073113  "
      ]
     },
     "execution_count": 6,
     "metadata": {},
     "output_type": "execute_result"
    }
   ],
   "source": [
    "impute_output = pd.DataFrame(feature_est[features]).transpose()\n",
    "impute_output"
   ]
  },
  {
   "cell_type": "code",
   "execution_count": 9,
   "metadata": {
    "collapsed": false
   },
   "outputs": [
    {
     "data": {
      "text/plain": [
       "'0.16.2'"
      ]
     },
     "execution_count": 9,
     "metadata": {},
     "output_type": "execute_result"
    }
   ],
   "source": [
    "pd.__version__"
   ]
  },
  {
   "cell_type": "code",
   "execution_count": 93,
   "metadata": {
    "collapsed": false
   },
   "outputs": [
    {
     "data": {
      "text/html": [
       "<div>\n",
       "<table border=\"1\" class=\"dataframe\">\n",
       "  <thead>\n",
       "    <tr style=\"text-align: right;\">\n",
       "      <th></th>\n",
       "      <th>pid</th>\n",
       "      <th>pred_lwr</th>\n",
       "      <th>pred_range</th>\n",
       "      <th>pred_upr</th>\n",
       "      <th>pred_val</th>\n",
       "      <th>range_pct</th>\n",
       "    </tr>\n",
       "  </thead>\n",
       "  <tbody>\n",
       "    <tr>\n",
       "      <th>0</th>\n",
       "      <td>715</td>\n",
       "      <td>0.070972</td>\n",
       "      <td>0.014052</td>\n",
       "      <td>0.085024</td>\n",
       "      <td>0.077708</td>\n",
       "      <td>18.082545</td>\n",
       "    </tr>\n",
       "  </tbody>\n",
       "</table>\n",
       "</div>"
      ],
      "text/plain": [
       "   pid  pred_lwr  pred_range  pred_upr  pred_val  range_pct\n",
       "0  715  0.070972    0.014052  0.085024  0.077708  18.082545"
      ]
     },
     "execution_count": 93,
     "metadata": {},
     "output_type": "execute_result"
    }
   ],
   "source": [
    "patient_output = computePredCI2(patient_input, impute_output, coe_los, cov_los)\n",
    "patient_output"
   ]
  },
  {
   "cell_type": "code",
   "execution_count": 9,
   "metadata": {
    "collapsed": false
   },
   "outputs": [
    {
     "name": "stdout",
     "output_type": "stream",
     "text": [
      "the value  3.14%\n"
     ]
    }
   ],
   "source": [
    "print \"the value  \" + str(round(patient_output.pred_val.values[0]*100,2)) + \"%\""
   ]
  },
  {
   "cell_type": "code",
   "execution_count": 25,
   "metadata": {
    "collapsed": false
   },
   "outputs": [
    {
     "data": {
      "text/plain": [
       "pandas.core.series.Series"
      ]
     },
     "execution_count": 25,
     "metadata": {},
     "output_type": "execute_result"
    }
   ],
   "source": [
    "type(patient_output.pred_val)"
   ]
  },
  {
   "cell_type": "code",
   "execution_count": 35,
   "metadata": {
    "collapsed": false
   },
   "outputs": [
    {
     "data": {
      "text/html": [
       "<div>\n",
       "<table border=\"1\" class=\"dataframe\">\n",
       "  <thead>\n",
       "    <tr style=\"text-align: right;\">\n",
       "      <th></th>\n",
       "      <th>pid</th>\n",
       "      <th>Length_of_Stay</th>\n",
       "      <th>revision</th>\n",
       "      <th>complication</th>\n",
       "      <th>post_recovery</th>\n",
       "      <th>gender</th>\n",
       "      <th>age</th>\n",
       "      <th>age_60</th>\n",
       "      <th>age_60_70</th>\n",
       "      <th>age_70_80</th>\n",
       "      <th>...</th>\n",
       "      <th>antibiotics</th>\n",
       "      <th>ever_smoker</th>\n",
       "      <th>pre_comor_Group3_Endocrine</th>\n",
       "      <th>pre_comor_Anemia</th>\n",
       "      <th>pre_comor_Group5_MentalDisorder</th>\n",
       "      <th>pre_comor_Group6_Nervous</th>\n",
       "      <th>pre_comor_Hypertension</th>\n",
       "      <th>pre_comor_Group8_Respiratory</th>\n",
       "      <th>pre_comor_Rheumatism</th>\n",
       "      <th>LOS</th>\n",
       "    </tr>\n",
       "  </thead>\n",
       "  <tbody>\n",
       "    <tr>\n",
       "      <th>0</th>\n",
       "      <td>1941</td>\n",
       "      <td>NaN</td>\n",
       "      <td>NaN</td>\n",
       "      <td>NaN</td>\n",
       "      <td>NaN</td>\n",
       "      <td>2</td>\n",
       "      <td>54</td>\n",
       "      <td>1</td>\n",
       "      <td>0</td>\n",
       "      <td>0</td>\n",
       "      <td>...</td>\n",
       "      <td>NaN</td>\n",
       "      <td>NaN</td>\n",
       "      <td>NaN</td>\n",
       "      <td>NaN</td>\n",
       "      <td>NaN</td>\n",
       "      <td>NaN</td>\n",
       "      <td>NaN</td>\n",
       "      <td>NaN</td>\n",
       "      <td>NaN</td>\n",
       "      <td>NaN</td>\n",
       "    </tr>\n",
       "  </tbody>\n",
       "</table>\n",
       "<p>1 rows × 26 columns</p>\n",
       "</div>"
      ],
      "text/plain": [
       "    pid  Length_of_Stay  revision  complication  post_recovery  gender age  \\\n",
       "0  1941             NaN       NaN           NaN            NaN       2  54   \n",
       "\n",
       "   age_60  age_60_70  age_70_80 ...  antibiotics  ever_smoker  \\\n",
       "0       1          0          0 ...          NaN          NaN   \n",
       "\n",
       "   pre_comor_Group3_Endocrine  pre_comor_Anemia  \\\n",
       "0                         NaN               NaN   \n",
       "\n",
       "   pre_comor_Group5_MentalDisorder  pre_comor_Group6_Nervous  \\\n",
       "0                              NaN                       NaN   \n",
       "\n",
       "  pre_comor_Hypertension pre_comor_Group8_Respiratory pre_comor_Rheumatism LOS  \n",
       "0                    NaN                          NaN                  NaN NaN  \n",
       "\n",
       "[1 rows x 26 columns]"
      ]
     },
     "execution_count": 35,
     "metadata": {},
     "output_type": "execute_result"
    }
   ],
   "source": [
    "patient_input"
   ]
  },
  {
   "cell_type": "code",
   "execution_count": 15,
   "metadata": {
    "collapsed": false
   },
   "outputs": [
    {
     "name": "stdout",
     "output_type": "stream",
     "text": [
      "Please enter your age: 54\n"
     ]
    }
   ],
   "source": [
    "patient_input.age = raw_input(\"Please enter your age: \")"
   ]
  },
  {
   "cell_type": "code",
   "execution_count": 10,
   "metadata": {
    "collapsed": true
   },
   "outputs": [],
   "source": [
    "del feature_toask[0]"
   ]
  },
  {
   "cell_type": "code",
   "execution_count": 11,
   "metadata": {
    "collapsed": false
   },
   "outputs": [
    {
     "data": {
      "text/plain": [
       "['pre_comor_Anemia',\n",
       " 'pre_comor_Group6_Nervous',\n",
       " 'pre_comor_Group5_MentalDisorder',\n",
       " 'pre_comor_Rheumatism',\n",
       " 'pre_comor_Group3_Endocrine',\n",
       " 'pre_comor_Group8_Respiratory',\n",
       " 'ever_smoker',\n",
       " 'pre_comor_Hypertension']"
      ]
     },
     "execution_count": 11,
     "metadata": {},
     "output_type": "execute_result"
    }
   ],
   "source": [
    "feature_toask"
   ]
  },
  {
   "cell_type": "code",
   "execution_count": 14,
   "metadata": {
    "collapsed": false
   },
   "outputs": [
    {
     "data": {
      "text/html": [
       "<div>\n",
       "<table border=\"1\" class=\"dataframe\">\n",
       "  <thead>\n",
       "    <tr style=\"text-align: right;\">\n",
       "      <th></th>\n",
       "      <th>pid</th>\n",
       "      <th>Length_of_Stay</th>\n",
       "      <th>revision</th>\n",
       "      <th>complication</th>\n",
       "      <th>post_recovery</th>\n",
       "      <th>gender</th>\n",
       "      <th>age</th>\n",
       "      <th>age_60</th>\n",
       "      <th>age_60_70</th>\n",
       "      <th>age_70_80</th>\n",
       "      <th>...</th>\n",
       "      <th>antibiotics</th>\n",
       "      <th>ever_smoker</th>\n",
       "      <th>pre_comor_Group3_Endocrine</th>\n",
       "      <th>pre_comor_Anemia</th>\n",
       "      <th>pre_comor_Group5_MentalDisorder</th>\n",
       "      <th>pre_comor_Group6_Nervous</th>\n",
       "      <th>pre_comor_Hypertension</th>\n",
       "      <th>pre_comor_Group8_Respiratory</th>\n",
       "      <th>pre_comor_Rheumatism</th>\n",
       "      <th>LOS</th>\n",
       "    </tr>\n",
       "  </thead>\n",
       "  <tbody>\n",
       "    <tr>\n",
       "      <th>0</th>\n",
       "      <td>963</td>\n",
       "      <td>NaN</td>\n",
       "      <td>NaN</td>\n",
       "      <td>NaN</td>\n",
       "      <td>NaN</td>\n",
       "      <td>2</td>\n",
       "      <td>52</td>\n",
       "      <td>1</td>\n",
       "      <td>0</td>\n",
       "      <td>0</td>\n",
       "      <td>...</td>\n",
       "      <td>NaN</td>\n",
       "      <td>NaN</td>\n",
       "      <td>NaN</td>\n",
       "      <td>NaN</td>\n",
       "      <td>NaN</td>\n",
       "      <td>NaN</td>\n",
       "      <td>NaN</td>\n",
       "      <td>NaN</td>\n",
       "      <td>NaN</td>\n",
       "      <td>NaN</td>\n",
       "    </tr>\n",
       "  </tbody>\n",
       "</table>\n",
       "<p>1 rows × 26 columns</p>\n",
       "</div>"
      ],
      "text/plain": [
       "   pid  Length_of_Stay  revision  complication  post_recovery  gender  age  \\\n",
       "0  963             NaN       NaN           NaN            NaN       2   52   \n",
       "\n",
       "   age_60  age_60_70  age_70_80 ...  antibiotics  ever_smoker  \\\n",
       "0       1          0          0 ...          NaN          NaN   \n",
       "\n",
       "   pre_comor_Group3_Endocrine  pre_comor_Anemia  \\\n",
       "0                         NaN               NaN   \n",
       "\n",
       "   pre_comor_Group5_MentalDisorder  pre_comor_Group6_Nervous  \\\n",
       "0                              NaN                       NaN   \n",
       "\n",
       "  pre_comor_Hypertension pre_comor_Group8_Respiratory pre_comor_Rheumatism LOS  \n",
       "0                    NaN                          NaN                  NaN NaN  \n",
       "\n",
       "[1 rows x 26 columns]"
      ]
     },
     "execution_count": 14,
     "metadata": {},
     "output_type": "execute_result"
    }
   ],
   "source": [
    "pat0"
   ]
  },
  {
   "cell_type": "code",
   "execution_count": 35,
   "metadata": {
    "collapsed": false
   },
   "outputs": [
    {
     "data": {
      "text/plain": [
       "array(['gender', 'age', 'age_60', 'age_60_70', 'age_70_80', 'age_80',\n",
       "       'bmi_pre', 'bmi_30', 'bmi_30_35', 'bmi_35_40', 'bmi_40'], dtype=object)"
      ]
     },
     "execution_count": 35,
     "metadata": {},
     "output_type": "execute_result"
    }
   ],
   "source": [
    "demo_input.columns.values"
   ]
  },
  {
   "cell_type": "code",
   "execution_count": null,
   "metadata": {
    "collapsed": true
   },
   "outputs": [],
   "source": [
    "patient_input[[\"age\",\"bmi_pre\",\"gender\"]]=[52, 22, 2]\n",
    "patient_input.loc[patient_input.age<60, 'age_60']=1"
   ]
  },
  {
   "cell_type": "code",
   "execution_count": 37,
   "metadata": {
    "collapsed": false
   },
   "outputs": [
    {
     "data": {
      "text/html": [
       "<div>\n",
       "<table border=\"1\" class=\"dataframe\">\n",
       "  <thead>\n",
       "    <tr style=\"text-align: right;\">\n",
       "      <th></th>\n",
       "      <th>gender</th>\n",
       "      <th>age_60</th>\n",
       "      <th>age_60_70</th>\n",
       "      <th>age_70_80</th>\n",
       "      <th>age_80</th>\n",
       "      <th>bmi_30</th>\n",
       "      <th>bmi_30_35</th>\n",
       "      <th>bmi_35_40</th>\n",
       "      <th>bmi_40</th>\n",
       "    </tr>\n",
       "  </thead>\n",
       "  <tbody>\n",
       "    <tr>\n",
       "      <th>0</th>\n",
       "      <td>2</td>\n",
       "      <td>1</td>\n",
       "      <td>0</td>\n",
       "      <td>0</td>\n",
       "      <td>0</td>\n",
       "      <td>1</td>\n",
       "      <td>0</td>\n",
       "      <td>0</td>\n",
       "      <td>0</td>\n",
       "    </tr>\n",
       "  </tbody>\n",
       "</table>\n",
       "</div>"
      ],
      "text/plain": [
       "   gender  age_60  age_60_70  age_70_80  age_80  bmi_30  bmi_30_35  bmi_35_40  \\\n",
       "0       2       1          0          0       0       1          0          0   \n",
       "\n",
       "   bmi_40  \n",
       "0       0  "
      ]
     },
     "execution_count": 37,
     "metadata": {},
     "output_type": "execute_result"
    }
   ],
   "source": [
    "patient_input[required_features]"
   ]
  },
  {
   "cell_type": "code",
   "execution_count": 57,
   "metadata": {
    "collapsed": false
   },
   "outputs": [
    {
     "data": {
      "text/plain": [
       "'76'"
      ]
     },
     "execution_count": 57,
     "metadata": {},
     "output_type": "execute_result"
    }
   ],
   "source": [
    "patient_input.iloc[0]['age']"
   ]
  },
  {
   "cell_type": "code",
   "execution_count": 61,
   "metadata": {
    "collapsed": false
   },
   "outputs": [
    {
     "name": "stdout",
     "output_type": "stream",
     "text": [
      "Please enter your age: 84\n"
     ]
    },
    {
     "data": {
      "text/html": [
       "<div>\n",
       "<table border=\"1\" class=\"dataframe\">\n",
       "  <thead>\n",
       "    <tr style=\"text-align: right;\">\n",
       "      <th></th>\n",
       "      <th>gender</th>\n",
       "      <th>age_60</th>\n",
       "      <th>age_60_70</th>\n",
       "      <th>age_70_80</th>\n",
       "      <th>age_80</th>\n",
       "      <th>bmi_30</th>\n",
       "      <th>bmi_30_35</th>\n",
       "      <th>bmi_35_40</th>\n",
       "      <th>bmi_40</th>\n",
       "    </tr>\n",
       "  </thead>\n",
       "  <tbody>\n",
       "    <tr>\n",
       "      <th>0</th>\n",
       "      <td>0</td>\n",
       "      <td>0</td>\n",
       "      <td>0</td>\n",
       "      <td>0</td>\n",
       "      <td>1</td>\n",
       "      <td>0</td>\n",
       "      <td>0</td>\n",
       "      <td>0</td>\n",
       "      <td>0</td>\n",
       "    </tr>\n",
       "  </tbody>\n",
       "</table>\n",
       "</div>"
      ],
      "text/plain": [
       "   gender  age_60  age_60_70  age_70_80  age_80  bmi_30  bmi_30_35  bmi_35_40  \\\n",
       "0       0       0          0          0       1       0          0          0   \n",
       "\n",
       "   bmi_40  \n",
       "0       0  "
      ]
     },
     "execution_count": 61,
     "metadata": {},
     "output_type": "execute_result"
    }
   ],
   "source": [
    "\n",
    "patient_input[required_features]=0\n",
    "#patient_input.age = eval(raw_input(\"Please enter your age: \"))\n",
    "patient_input.age = input(\"Please enter your age: \")\n",
    "p_age= patient_input.iloc[0]['age']\n",
    "if p_age < 60:\n",
    "    patient_input['age_60']=1\n",
    "elif p_age >= 60 and p_age < 70:\n",
    "    patient_input['age_60_70']=1\n",
    "elif p_age >= 70 and p_age < 80:\n",
    "    patient_input['age_70_80']=1\n",
    "else:\n",
    "    patient_input['age_80']=1\n",
    "patient_input[required_features]"
   ]
  },
  {
   "cell_type": "code",
   "execution_count": 64,
   "metadata": {
    "collapsed": false
   },
   "outputs": [
    {
     "data": {
      "text/html": [
       "<div>\n",
       "<table border=\"1\" class=\"dataframe\">\n",
       "  <thead>\n",
       "    <tr style=\"text-align: right;\">\n",
       "      <th></th>\n",
       "      <th>age</th>\n",
       "      <th>bmi_pre</th>\n",
       "      <th>gender</th>\n",
       "    </tr>\n",
       "  </thead>\n",
       "  <tbody>\n",
       "    <tr>\n",
       "      <th>0</th>\n",
       "      <td>84</td>\n",
       "      <td>22</td>\n",
       "      <td>-1</td>\n",
       "    </tr>\n",
       "  </tbody>\n",
       "</table>\n",
       "</div>"
      ],
      "text/plain": [
       "   age  bmi_pre  gender\n",
       "0   84       22      -1"
      ]
     },
     "execution_count": 64,
     "metadata": {},
     "output_type": "execute_result"
    }
   ],
   "source": [
    "udemo = patient_input[[\"age\", \"bmi_pre\", \"gender\"]]\n",
    "#udemo.loc[:,'gender'] = udemo.loc[:,'gender']-1\n",
    "udemo.loc[:,'gender'] = udemo.iloc[0]['gender']-1\n",
    "udemo"
   ]
  },
  {
   "cell_type": "code",
   "execution_count": 65,
   "metadata": {
    "collapsed": false
   },
   "outputs": [
    {
     "name": "stdout",
     "output_type": "stream",
     "text": [
      "Please enter your weight(LB): 150\n",
      "Please enter your height(inch): 67\n"
     ]
    },
    {
     "data": {
      "text/html": [
       "<div>\n",
       "<table border=\"1\" class=\"dataframe\">\n",
       "  <thead>\n",
       "    <tr style=\"text-align: right;\">\n",
       "      <th></th>\n",
       "      <th>gender</th>\n",
       "      <th>age_60</th>\n",
       "      <th>age_60_70</th>\n",
       "      <th>age_70_80</th>\n",
       "      <th>age_80</th>\n",
       "      <th>bmi_30</th>\n",
       "      <th>bmi_30_35</th>\n",
       "      <th>bmi_35_40</th>\n",
       "      <th>bmi_40</th>\n",
       "    </tr>\n",
       "  </thead>\n",
       "  <tbody>\n",
       "    <tr>\n",
       "      <th>0</th>\n",
       "      <td>0</td>\n",
       "      <td>0</td>\n",
       "      <td>0</td>\n",
       "      <td>0</td>\n",
       "      <td>1</td>\n",
       "      <td>1</td>\n",
       "      <td>0</td>\n",
       "      <td>0</td>\n",
       "      <td>0</td>\n",
       "    </tr>\n",
       "  </tbody>\n",
       "</table>\n",
       "</div>"
      ],
      "text/plain": [
       "   gender  age_60  age_60_70  age_70_80  age_80  bmi_30  bmi_30_35  bmi_35_40  \\\n",
       "0       0       0          0          0       1       1          0          0   \n",
       "\n",
       "   bmi_40  \n",
       "0       0  "
      ]
     },
     "execution_count": 65,
     "metadata": {},
     "output_type": "execute_result"
    }
   ],
   "source": [
    "p_weight = input(\"Please enter your weight(LB): \")\n",
    "p_height = input(\"Please enter your height(inch): \")\n",
    "\n",
    "p_bmi = p_weight*730/math.pow(p_height,2)\n",
    "patient_input.bmi_pre = p_bmi\n",
    "\n",
    "if p_bmi < 30:\n",
    "  patient_input['bmi_30']=1\n",
    "elif p_age >= 30 and p_age < 35:\n",
    "  patient_input['bmi_30_35']=1\n",
    "elif p_age >= 35 and p_age < 40:\n",
    "  patient_input['bmi_35_40']=1\n",
    "else:\n",
    "  patient_input['bmi_40']=1\n",
    "patient_input[required_features]"
   ]
  },
  {
   "cell_type": "code",
   "execution_count": 66,
   "metadata": {
    "collapsed": false
   },
   "outputs": [
    {
     "data": {
      "text/html": [
       "<div>\n",
       "<table border=\"1\" class=\"dataframe\">\n",
       "  <thead>\n",
       "    <tr style=\"text-align: right;\">\n",
       "      <th></th>\n",
       "      <th>age</th>\n",
       "      <th>bmi_pre</th>\n",
       "    </tr>\n",
       "  </thead>\n",
       "  <tbody>\n",
       "    <tr>\n",
       "      <th>0</th>\n",
       "      <td>84</td>\n",
       "      <td>24.392961</td>\n",
       "    </tr>\n",
       "  </tbody>\n",
       "</table>\n",
       "</div>"
      ],
      "text/plain": [
       "   age    bmi_pre\n",
       "0   84  24.392961"
      ]
     },
     "execution_count": 66,
     "metadata": {},
     "output_type": "execute_result"
    }
   ],
   "source": [
    "patient_input[['age','bmi_pre']]"
   ]
  },
  {
   "cell_type": "code",
   "execution_count": 71,
   "metadata": {
    "collapsed": false
   },
   "outputs": [
    {
     "name": "stdout",
     "output_type": "stream",
     "text": [
      "Please enter your gender(M or F): M\n"
     ]
    },
    {
     "data": {
      "text/html": [
       "<div>\n",
       "<table border=\"1\" class=\"dataframe\">\n",
       "  <thead>\n",
       "    <tr style=\"text-align: right;\">\n",
       "      <th></th>\n",
       "      <th>gender</th>\n",
       "    </tr>\n",
       "  </thead>\n",
       "  <tbody>\n",
       "    <tr>\n",
       "      <th>0</th>\n",
       "      <td>1</td>\n",
       "    </tr>\n",
       "  </tbody>\n",
       "</table>\n",
       "</div>"
      ],
      "text/plain": [
       "   gender\n",
       "0       1"
      ]
     },
     "execution_count": 71,
     "metadata": {},
     "output_type": "execute_result"
    }
   ],
   "source": [
    "p_gender = raw_input(\"Please enter your gender(M or F): \")\n",
    "if p_gender=='M':\n",
    "    patient_input['gender']=1\n",
    "else:\n",
    "    patient_input['gender']=2\n",
    "patient_input[['gender']]"
   ]
  },
  {
   "cell_type": "code",
   "execution_count": 82,
   "metadata": {
    "collapsed": false
   },
   "outputs": [
    {
     "data": {
      "text/plain": [
       "['antibiotics',\n",
       " 'pre_comor_Anemia',\n",
       " 'pre_comor_Group6_Nervous',\n",
       " 'pre_comor_Group5_MentalDisorder',\n",
       " 'pre_comor_Rheumatism',\n",
       " 'pre_comor_Group3_Endocrine',\n",
       " 'pre_comor_Group8_Respiratory',\n",
       " 'ever_smoker',\n",
       " 'pre_comor_Hypertension']"
      ]
     },
     "execution_count": 82,
     "metadata": {},
     "output_type": "execute_result"
    }
   ],
   "source": [
    "feature_toask = features_inorder[:]\n",
    "feature_toask"
   ]
  },
  {
   "cell_type": "code",
   "execution_count": 87,
   "metadata": {
    "collapsed": false
   },
   "outputs": [
    {
     "name": "stdout",
     "output_type": "stream",
     "text": [
      "We'd like to ask you - do you have pre_comor_Rheumatism(Y/N)?N\n"
     ]
    },
    {
     "data": {
      "text/html": [
       "<div>\n",
       "<table border=\"1\" class=\"dataframe\">\n",
       "  <thead>\n",
       "    <tr style=\"text-align: right;\">\n",
       "      <th></th>\n",
       "      <th>antibiotics</th>\n",
       "      <th>pre_comor_Anemia</th>\n",
       "      <th>pre_comor_Group6_Nervous</th>\n",
       "      <th>pre_comor_Group5_MentalDisorder</th>\n",
       "      <th>pre_comor_Rheumatism</th>\n",
       "      <th>pre_comor_Group3_Endocrine</th>\n",
       "      <th>pre_comor_Group8_Respiratory</th>\n",
       "      <th>ever_smoker</th>\n",
       "      <th>pre_comor_Hypertension</th>\n",
       "    </tr>\n",
       "  </thead>\n",
       "  <tbody>\n",
       "    <tr>\n",
       "      <th>0</th>\n",
       "      <td>1</td>\n",
       "      <td>0</td>\n",
       "      <td>1</td>\n",
       "      <td>1</td>\n",
       "      <td>0</td>\n",
       "      <td>0</td>\n",
       "      <td>0</td>\n",
       "      <td>0</td>\n",
       "      <td>0</td>\n",
       "    </tr>\n",
       "  </tbody>\n",
       "</table>\n",
       "</div>"
      ],
      "text/plain": [
       "   antibiotics  pre_comor_Anemia  pre_comor_Group6_Nervous  \\\n",
       "0            1                 0                         1   \n",
       "\n",
       "   pre_comor_Group5_MentalDisorder  pre_comor_Rheumatism  \\\n",
       "0                                1                     0   \n",
       "\n",
       "   pre_comor_Group3_Endocrine  pre_comor_Group8_Respiratory  ever_smoker  \\\n",
       "0                           0                             0            0   \n",
       "\n",
       "   pre_comor_Hypertension  \n",
       "0                       0  "
      ]
     },
     "execution_count": 87,
     "metadata": {},
     "output_type": "execute_result"
    }
   ],
   "source": [
    "p_answer=raw_input(\"We'd like to ask you - do you have \" + feature_toask[0] + \"(Y/N)?\")\n",
    "if p_answer=='Y':\n",
    "    patient_input[feature_toask[0]]=1\n",
    "else:\n",
    "    patient_input[feature_toask[0]]=0\n",
    "\n",
    "del feature_toask[0]\n",
    "patient_input[features_inorder]"
   ]
  },
  {
   "cell_type": "code",
   "execution_count": 94,
   "metadata": {
    "collapsed": true
   },
   "outputs": [],
   "source": [
    "pt = patient_output.copy()"
   ]
  },
  {
   "cell_type": "code",
   "execution_count": 95,
   "metadata": {
    "collapsed": false
   },
   "outputs": [
    {
     "data": {
      "text/plain": [
       "array([[  7.15000000e+02,   7.09722929e-02,   1.40515306e-02,\n",
       "          8.50238235e-02,   7.77077058e-02,   1.80825446e+01]])"
      ]
     },
     "execution_count": 95,
     "metadata": {},
     "output_type": "execute_result"
    }
   ],
   "source": [
    "pt.values"
   ]
  },
  {
   "cell_type": "code",
   "execution_count": 157,
   "metadata": {
    "collapsed": false
   },
   "outputs": [
    {
     "data": {
      "text/plain": [
       "pandas.core.series.Series"
      ]
     },
     "execution_count": 157,
     "metadata": {},
     "output_type": "execute_result"
    }
   ],
   "source": [
    "pt = patient_output.iloc[0]\n",
    "type(pt)"
   ]
  },
  {
   "cell_type": "code",
   "execution_count": 103,
   "metadata": {
    "collapsed": false
   },
   "outputs": [
    {
     "data": {
      "text/plain": [
       "7.8"
      ]
     },
     "execution_count": 103,
     "metadata": {},
     "output_type": "execute_result"
    }
   ],
   "source": [
    "round(pt['pred_val'],3)*100"
   ]
  },
  {
   "cell_type": "code",
   "execution_count": 105,
   "metadata": {
    "collapsed": false
   },
   "outputs": [],
   "source": [
    "qr_los = pd.read_csv(\"quantile_fitted_LOS.csv\")"
   ]
  },
  {
   "cell_type": "code",
   "execution_count": 122,
   "metadata": {
    "collapsed": false
   },
   "outputs": [
    {
     "data": {
      "text/plain": [
       "'15%'"
      ]
     },
     "execution_count": 122,
     "metadata": {},
     "output_type": "execute_result"
    }
   ],
   "source": [
    "qr_los[(qr_los['quantile']>=0.042)][:1].iloc[0]['percent']"
   ]
  },
  {
   "cell_type": "code",
   "execution_count": 127,
   "metadata": {
    "collapsed": false
   },
   "outputs": [
    {
     "data": {
      "text/plain": [
       "15"
      ]
     },
     "execution_count": 127,
     "metadata": {},
     "output_type": "execute_result"
    }
   ],
   "source": [
    "qr_los[(qr_los['quantile']>=0.042)].index.tolist()[0]*5"
   ]
  },
  {
   "cell_type": "code",
   "execution_count": 139,
   "metadata": {
    "collapsed": false
   },
   "outputs": [
    {
     "name": "stdout",
     "output_type": "stream",
     "text": [
      "--- 0.0979998111725 seconds ---\n"
     ]
    }
   ],
   "source": [
    "import time\n",
    "start_time = time.time()\n",
    "for i in xrange(0,1000000):\n",
    "    y=i+i\n",
    "print(\"--- %s seconds ---\" % (time.time() - start_time))"
   ]
  },
  {
   "cell_type": "code",
   "execution_count": 155,
   "metadata": {
    "collapsed": false
   },
   "outputs": [],
   "source": [
    "class glmout:\n",
    "    #import lib and global vars\n",
    "    import pandas as pd\n",
    "    import numpy as np\n",
    "    from scipy.stats import norm\n",
    "    \n",
    "    demo_features = [\"age\", \"bmi_pre\", \"gender\"]\n",
    "    features_inorder = [\"antibiotics\", \"pre_comor_Anemia\", \"pre_comor_Group6_Nervous\", \n",
    "                       \"pre_comor_Group5_MentalDisorder\", \"pre_comor_Rheumatism\", \"pre_comor_Group3_Endocrine\", \n",
    "                       \"pre_comor_Group8_Respiratory\", \"ever_smoker\", \"pre_comor_Hypertension\"]\n",
    "\n",
    "    predictor_set = demo_features + features_inorder\n",
    "\n",
    "    # z value for confidence interval\n",
    "    cr = norm.ppf(0.975)\n",
    "    \n",
    "    #import the coefficients, covariance matrix and quantile profiles\n",
    "    coe_los = pd.read_csv(\"formula_glm_LOS.csv\")\n",
    "    coe_los = coe_los.coefficients.as_matrix()\n",
    "    \n",
    "    cov_los = pd.read_csv(\"covariance_glm_LOS.csv\")\n",
    "    del cov_los['predictor']\n",
    "    cov_los = np.mat(cov_los)\n",
    "    \n",
    "    qr_los = pd.read_csv(\"quantile_fitted_LOS.csv\")\n",
    "    \n",
    "    imputationCount = 0\n",
    "    \n",
    "   #initialize the class\n",
    "    \n",
    "    def __init__(self):\n",
    "        glmout.imputationCount += 1\n",
    "        \n",
    "    def logitT(self, x):\n",
    "        import math\n",
    "        #function to perform the log transform\n",
    "        #x is the input value before applying the link function which is the log transform\n",
    "        #return the output value after applying the link function\n",
    "        return ( math.exp(x)/(1+math.exp(x)) )\n",
    "\n",
    "    def covf(self, x, cov):\n",
    "        import math\n",
    "        #function to calculate the standard error\n",
    "        #x is the input vector, cov is the covariance matrix, x.T is to conduct the transpose for x\n",
    "        #return the output value as standard error\n",
    "        return (math.sqrt(x*cov*x.T))\n",
    "     \n",
    "    \n",
    "    def computePredCI2(self, imputed, coe, cov):\n",
    "    #function to compute the confidence interval\n",
    "    #patient_input is users answers or designed test data\n",
    "    #imputed is the imputed list after the process of imputing missings\n",
    "    #return a dataframe having measures to present to users\n",
    "    #assemble the users input\n",
    "        pat = imputed.copy()\n",
    "        pat.loc[:,'gender'] = pat.loc[:,'gender']-1\n",
    "        to_compute = pat[glmout.predictor_set]\n",
    "        \n",
    "        #append the intercept to model input\n",
    "        inpt = pd.DataFrame({'intercept': [1]})\n",
    "        to_compute = pd.concat([inpt, to_compute], axis=1)\n",
    "        to_compute = to_compute.as_matrix()\n",
    "        \n",
    "    #compute the model formula\n",
    "        s = np.dot(coe, to_compute.transpose())\n",
    "    #compute the standard error\n",
    "        to_compute = np.mat(to_compute)\n",
    "        se = [self.covf(to_compute, cov) for x in to_compute]\n",
    "        \n",
    "    #apply logit transform for prediction, lower and upper bounds\n",
    "        ls = self.logitT(s[0])\n",
    "        lsupr = self.logitT(s[0]+cr*se[0])\n",
    "        lslwr = self.logitT(s[0]-cr*se[0])\n",
    "        \n",
    "    #compute the range and its percentage\n",
    "    #assemble the results to a data frame\n",
    "        rgp = None\n",
    "        if(ls!=0):\n",
    "            rgp = (lsupr-lslwr)/ls*100\n",
    "        computed_val = pd.DataFrame({'pid':[patient_input.iloc[0]['pid']], 'pred_val':[ls], 'pred_upr':[lsupr],'pred_lwr':[lslwr], 'pred_range':[lsupr-lslwr], 'range_pct': rgp})\n",
    "        return (computed_val)\n",
    "    \n",
    "    def compute_model(self, feature_est):\n",
    "        #compute the model\n",
    "        #input of the function\n",
    "        #feature_est is the output from the class imputer - a series\n",
    "        #patient_output is the output - a dataframe\n",
    "        #start to compute the model\n",
    "        \n",
    "        imputed_output = pd.DataFrame(feature_est[glmout.predictor_set]).transpose()\n",
    "        patient_output = self.computePredCI2(imputed_output, glmout.coe_los, glmout.cov_los)\n",
    "        \n",
    "        #return the results\n",
    "        print patient_output\n",
    "        return (patient_output)\n",
    "    "
   ]
  },
  {
   "cell_type": "code",
   "execution_count": 160,
   "metadata": {
    "collapsed": false
   },
   "outputs": [
    {
     "data": {
      "text/plain": [
       "<bound method DataFrame.copy of    pid  Length_of_Stay  revision  complication  post_recovery  gender  age  \\\n",
       "0  715             NaN       NaN           NaN            NaN       1   84   \n",
       "\n",
       "   age_60  age_60_70  age_70_80 ...   antibiotics  ever_smoker  \\\n",
       "0       0          0          0 ...             1            0   \n",
       "\n",
       "   pre_comor_Group3_Endocrine  pre_comor_Anemia  \\\n",
       "0                           0                 0   \n",
       "\n",
       "   pre_comor_Group5_MentalDisorder  pre_comor_Group6_Nervous  \\\n",
       "0                                1                         1   \n",
       "\n",
       "   pre_comor_Hypertension  pre_comor_Group8_Respiratory  pre_comor_Rheumatism  \\\n",
       "0                       0                             0                     0   \n",
       "\n",
       "   LOS  \n",
       "0  NaN  \n",
       "\n",
       "[1 rows x 26 columns]>"
      ]
     },
     "execution_count": 160,
     "metadata": {},
     "output_type": "execute_result"
    }
   ],
   "source": [
    "patient_input.copy"
   ]
  },
  {
   "cell_type": "code",
   "execution_count": null,
   "metadata": {
    "collapsed": true
   },
   "outputs": [],
   "source": []
  }
 ],
 "metadata": {
  "kernelspec": {
   "display_name": "Python 2",
   "language": "python",
   "name": "python2"
  },
  "language_info": {
   "codemirror_mode": {
    "name": "ipython",
    "version": 2
   },
   "file_extension": ".py",
   "mimetype": "text/x-python",
   "name": "python",
   "nbconvert_exporter": "python",
   "pygments_lexer": "ipython2",
   "version": "2.7.11"
  }
 },
 "nbformat": 4,
 "nbformat_minor": 0
}
